{
 "cells": [
  {
   "cell_type": "markdown",
   "id": "a7734c92-033a-4012-8f94-513e789415e5",
   "metadata": {},
   "source": [
    "# Secret Manager Function"
   ]
  },
  {
   "cell_type": "code",
   "execution_count": 1,
   "id": "e6461f5e-0682-47cb-b2d7-61e13c5f552d",
   "metadata": {},
   "outputs": [],
   "source": [
    "import boto3\n",
    "from botocore.exceptions import ClientError\n",
    "import json\n",
    "\n",
    "def get_secret(secret_name):\n",
    "    region_name = \"us-east-1\"\n",
    "\n",
    "    # Create a Secrets Manager client\n",
    "    session = boto3.session.Session()\n",
    "    client = session.client(\n",
    "        service_name='secretsmanager',\n",
    "        region_name=region_name\n",
    "    )\n",
    "\n",
    "    try:\n",
    "        get_secret_value_response = client.get_secret_value(\n",
    "            SecretId=secret_name\n",
    "        )\n",
    "    except ClientError as e:\n",
    "        raise e\n",
    "\n",
    "    secret = get_secret_value_response['SecretString']\n",
    "    \n",
    "    return json.loads(secret)"
   ]
  },
  {
   "cell_type": "markdown",
   "id": "20c20ab0-1ad5-4f33-a463-b40f85ed4562",
   "metadata": {},
   "source": [
    "# Connecting to Database"
   ]
  },
  {
   "cell_type": "code",
   "execution_count": 2,
   "id": "d206d9fa-e255-47c5-9472-cb5fb5452e71",
   "metadata": {},
   "outputs": [],
   "source": [
    "import psycopg2\n",
    "\n",
    "conn = psycopg2.connect(host=get_secret('postgresql')['host'],\n",
    "                      user=get_secret('postgresql')['username'],\n",
    "                      password = get_secret('postgresql')['password'],\n",
    "                      dbname=get_secret('postgresql')['engine'])\n",
    "\n",
    "cur = conn.cursor()"
   ]
  },
  {
   "cell_type": "markdown",
   "id": "6c471362-306b-4b0e-a283-96860981aacf",
   "metadata": {},
   "source": [
    "# Q1"
   ]
  },
  {
   "cell_type": "code",
   "execution_count": 3,
   "id": "d0e44eff-89ed-4064-8f28-f265e2f2e795",
   "metadata": {},
   "outputs": [],
   "source": [
    "import warnings\n",
    "\n",
    "warnings.simplefilter('ignore')"
   ]
  },
  {
   "cell_type": "markdown",
   "id": "0d0b167d-1f95-4e71-a785-72815019f4f0",
   "metadata": {},
   "source": [
    "## Pull fips for state"
   ]
  },
  {
   "cell_type": "code",
   "execution_count": 4,
   "id": "d2f46bcd-6a0b-4300-8df4-c42e81c72d4b",
   "metadata": {},
   "outputs": [
    {
     "name": "stdout",
     "output_type": "stream",
     "text": [
      "  fips      name\n",
      "0   36  New York\n"
     ]
    }
   ],
   "source": [
    "import pandas as pd\n",
    "\n",
    "sql_fips = \"\"\"\n",
    "SELECT fips, name\n",
    "FROM name\n",
    "WHERE name = 'New York';\n",
    "\"\"\"\n",
    "\n",
    "ny_fips = pd.read_sql(sql_fips, conn)\n",
    "print(ny_fips)\n"
   ]
  },
  {
   "cell_type": "markdown",
   "id": "770f51b3-d92e-499a-976d-32874c312aba",
   "metadata": {},
   "source": [
    "## Pull yearly population data"
   ]
  },
  {
   "cell_type": "code",
   "execution_count": 6,
   "id": "fd6398a1-f9a6-4e21-a207-ebdd7e6e5e5e",
   "metadata": {},
   "outputs": [
    {
     "data": {
      "text/html": [
       "<div>\n",
       "<style scoped>\n",
       "    .dataframe tbody tr th:only-of-type {\n",
       "        vertical-align: middle;\n",
       "    }\n",
       "\n",
       "    .dataframe tbody tr th {\n",
       "        vertical-align: top;\n",
       "    }\n",
       "\n",
       "    .dataframe thead th {\n",
       "        text-align: right;\n",
       "    }\n",
       "</style>\n",
       "<table border=\"1\" class=\"dataframe\">\n",
       "  <thead>\n",
       "    <tr style=\"text-align: right;\">\n",
       "      <th></th>\n",
       "      <th>year</th>\n",
       "      <th>pop</th>\n",
       "    </tr>\n",
       "  </thead>\n",
       "  <tbody>\n",
       "    <tr>\n",
       "      <th>0</th>\n",
       "      <td>2005</td>\n",
       "      <td>18655275</td>\n",
       "    </tr>\n",
       "    <tr>\n",
       "      <th>1</th>\n",
       "      <td>2006</td>\n",
       "      <td>19306183</td>\n",
       "    </tr>\n",
       "    <tr>\n",
       "      <th>2</th>\n",
       "      <td>2007</td>\n",
       "      <td>19297729</td>\n",
       "    </tr>\n",
       "    <tr>\n",
       "      <th>3</th>\n",
       "      <td>2008</td>\n",
       "      <td>19490297</td>\n",
       "    </tr>\n",
       "    <tr>\n",
       "      <th>4</th>\n",
       "      <td>2009</td>\n",
       "      <td>19541453</td>\n",
       "    </tr>\n",
       "  </tbody>\n",
       "</table>\n",
       "</div>"
      ],
      "text/plain": [
       "   year       pop\n",
       "0  2005  18655275\n",
       "1  2006  19306183\n",
       "2  2007  19297729\n",
       "3  2008  19490297\n",
       "4  2009  19541453"
      ]
     },
     "execution_count": 6,
     "metadata": {},
     "output_type": "execute_result"
    }
   ],
   "source": [
    "sql_population_fips = f\"\"\"\n",
    "SELECT year, pop\n",
    "FROM population\n",
    "WHERE fips = '36'\n",
    "ORDER BY year ASC;\n",
    "\"\"\"\n",
    "\n",
    "ny_df = pd.read_sql(sql_population_fips, conn)\n",
    "ny_df.head()\n"
   ]
  },
  {
   "cell_type": "markdown",
   "id": "47adbeca-142d-4022-9784-bc423eb06e78",
   "metadata": {},
   "source": [
    "## Use Jupyter AI to calculate and plot growth rate"
   ]
  },
  {
   "cell_type": "code",
   "execution_count": 7,
   "id": "f17d6ce2-9bfd-43da-bee3-8ddcd7fa1bb8",
   "metadata": {},
   "outputs": [
    {
     "name": "stdout",
     "output_type": "stream",
     "text": [
      "\u001b[31mERROR: pip's dependency resolver does not currently take into account all the packages that are installed. This behaviour is the source of the following dependency conflicts.\n",
      "safety-schemas 0.0.14 requires pydantic<2.10.0,>=2.6.0, but you have pydantic 2.11.10 which is incompatible.\n",
      "sparkmagic 0.21.0 requires pandas<2.0.0,>=0.17.1, but you have pandas 2.2.3 which is incompatible.\u001b[0m\u001b[31m\n",
      "\u001b[0m"
     ]
    }
   ],
   "source": [
    "! pip install jupyter-ai-magics[all] -q"
   ]
  },
  {
   "cell_type": "code",
   "execution_count": 8,
   "id": "1a192bd8-f4ad-4a33-89c2-39742e5a8555",
   "metadata": {
    "tags": []
   },
   "outputs": [],
   "source": [
    "import os\n",
    "os.environ[\"OPENAI_API_KEY\"] = get_secret('openai_1')['api_key']"
   ]
  },
  {
   "cell_type": "code",
   "execution_count": 9,
   "id": "053cae3e-351e-4a61-8310-423c68d97588",
   "metadata": {},
   "outputs": [],
   "source": [
    "%load_ext jupyter_ai_magics"
   ]
  },
  {
   "cell_type": "code",
   "execution_count": 10,
   "id": "33856556-1271-4b5a-8c3e-e580b8f2e6f7",
   "metadata": {},
   "outputs": [
    {
     "data": {
      "text/html": [
       "AI generated code inserted below &#11015;&#65039;"
      ],
      "text/plain": [
       "<IPython.core.display.HTML object>"
      ]
     },
     "execution_count": 10,
     "metadata": {
      "text/html": {
       "jupyter_ai": {
        "model_id": "gpt-4",
        "provider_id": "openai-chat"
       }
      }
     },
     "output_type": "execute_result"
    }
   ],
   "source": [
    "%%ai gpt4 -f code\n",
    "Calculate the growth rate with the data provided in {ny_df}, use the ny_df directly, and visualize the result on a line chart"
   ]
  },
  {
   "cell_type": "code",
   "execution_count": 11,
   "id": "63cda918-5579-4411-9684-9408ddd6f970",
   "metadata": {},
   "outputs": [
    {
     "data": {
      "image/png": "[encoded data removed]",
      "text/plain": [
       "<Figure size 1200x600 with 1 Axes>"
      ]
     },
     "metadata": {},
     "output_type": "display_data"
    }
   ],
   "source": [
    "import pandas as pd\n",
    "import matplotlib.pyplot as plt\n",
    "\n",
    "# Data\n",
    "data = {'year': [2005, 2006, 2007, 2008, 2009, 2010, 2011, 2012, 2013, 2014, 2015, 2016, 2017, 2018, 2019],\n",
    "        'pop': [18655275, 19306183, 19297729, 19490297, 19541453, 19392283, 19465197, 19570261, 19651127, 19746227, 19795791,19745289,19849399, 19542209, 19453561]}\n",
    "\n",
    "ny_df = pd.DataFrame(data)\n",
    "\n",
    "# Calculate growth rate\n",
    "ny_df['growth_rate'] = ny_df['pop'].pct_change() * 100\n",
    "\n",
    "# Plot\n",
    "plt.figure(figsize=(12, 6))\n",
    "plt.plot(ny_df['year'], ny_df['growth_rate'], marker='o')\n",
    "plt.title('Population Growth Rate Over Years')\n",
    "plt.xlabel('Year')\n",
    "plt.ylabel('Growth Rate (%)')\n",
    "plt.grid(True)\n",
    "plt.show()"
   ]
  },
  {
   "cell_type": "markdown",
   "id": "b71087c7-b200-45f0-a9e7-881ada4bd8ca",
   "metadata": {},
   "source": [
    "The graph shows the population growth rate by year starting from 2005. 2018 had the lowest growth rate in the graph, at roughly -1.5%. The highest growth rate was in 2006, at roughly 3.6%."
   ]
  },
  {
   "cell_type": "markdown",
   "id": "81ab62f5-8aaf-426a-98e1-585a6dda8e4e",
   "metadata": {},
   "source": [
    "# Q2"
   ]
  },
  {
   "cell_type": "code",
   "execution_count": null,
   "id": "e18e2094-a9d0-44d2-a5d5-084d73559077",
   "metadata": {},
   "outputs": [],
   "source": []
  }
 ],
 "metadata": {
  "kernelspec": {
   "display_name": "conda_python3",
   "language": "python",
   "name": "conda_python3"
  },
  "language_info": {
   "codemirror_mode": {
    "name": "ipython",
    "version": 3
   },
   "file_extension": ".py",
   "mimetype": "text/x-python",
   "name": "python",
   "nbconvert_exporter": "python",
   "pygments_lexer": "ipython3",
   "version": "3.10.18"
  }
 },
 "nbformat": 4,
 "nbformat_minor": 5
}
