{
 "cells": [
  {
   "cell_type": "markdown",
   "id": "760e4bf7-18fd-4a76-9500-e16b43e5eca2",
   "metadata": {},
   "source": [
    "# Lab 2"
   ]
  },
  {
   "cell_type": "markdown",
   "id": "f8821615-ff67-4548-865a-3a2bfb1e25ba",
   "metadata": {},
   "source": [
    "## View the Data"
   ]
  },
  {
   "cell_type": "code",
   "execution_count": 1,
   "id": "352f08f3-0cfc-4844-ba03-c412768edfa3",
   "metadata": {},
   "outputs": [
    {
     "data": {
      "text/html": [
       "<div>\n",
       "<style scoped>\n",
       "    .dataframe tbody tr th:only-of-type {\n",
       "        vertical-align: middle;\n",
       "    }\n",
       "\n",
       "    .dataframe tbody tr th {\n",
       "        vertical-align: top;\n",
       "    }\n",
       "\n",
       "    .dataframe thead th {\n",
       "        text-align: right;\n",
       "    }\n",
       "</style>\n",
       "<table border=\"1\" class=\"dataframe\">\n",
       "  <thead>\n",
       "    <tr style=\"text-align: right;\">\n",
       "      <th></th>\n",
       "      <th>Draw Date</th>\n",
       "      <th>Winning Numbers</th>\n",
       "      <th>Multiplier</th>\n",
       "    </tr>\n",
       "  </thead>\n",
       "  <tbody>\n",
       "    <tr>\n",
       "      <th>0</th>\n",
       "      <td>09/26/2020</td>\n",
       "      <td>11 21 27 36 62 24</td>\n",
       "      <td>3.0</td>\n",
       "    </tr>\n",
       "    <tr>\n",
       "      <th>1</th>\n",
       "      <td>09/30/2020</td>\n",
       "      <td>14 18 36 49 67 18</td>\n",
       "      <td>2.0</td>\n",
       "    </tr>\n",
       "    <tr>\n",
       "      <th>2</th>\n",
       "      <td>10/03/2020</td>\n",
       "      <td>18 31 36 43 47 20</td>\n",
       "      <td>2.0</td>\n",
       "    </tr>\n",
       "    <tr>\n",
       "      <th>3</th>\n",
       "      <td>10/07/2020</td>\n",
       "      <td>06 24 30 53 56 19</td>\n",
       "      <td>2.0</td>\n",
       "    </tr>\n",
       "    <tr>\n",
       "      <th>4</th>\n",
       "      <td>10/10/2020</td>\n",
       "      <td>05 18 23 40 50 18</td>\n",
       "      <td>3.0</td>\n",
       "    </tr>\n",
       "  </tbody>\n",
       "</table>\n",
       "</div>"
      ],
      "text/plain": [
       "    Draw Date    Winning Numbers  Multiplier\n",
       "0  09/26/2020  11 21 27 36 62 24         3.0\n",
       "1  09/30/2020  14 18 36 49 67 18         2.0\n",
       "2  10/03/2020  18 31 36 43 47 20         2.0\n",
       "3  10/07/2020  06 24 30 53 56 19         2.0\n",
       "4  10/10/2020  05 18 23 40 50 18         3.0"
      ]
     },
     "execution_count": 1,
     "metadata": {},
     "output_type": "execute_result"
    }
   ],
   "source": [
    "#importing data from S3\n",
    "import warnings\n",
    "warnings.simplefilter('ignore')\n",
    "\n",
    "import pandas as pd\n",
    "\n",
    "df = pd.read_csv('s3://kdr-ia-340-2025/Lottery_Powerball_Winning_Numbers__Beginning_2010.csv')\n",
    "df.head() "
   ]
  },
  {
   "cell_type": "code",
   "execution_count": 2,
   "id": "ef740a55-6d6d-41ed-a0e2-80b32f161abf",
   "metadata": {},
   "outputs": [
    {
     "data": {
      "text/plain": [
       "(1827, 3)"
      ]
     },
     "execution_count": 2,
     "metadata": {},
     "output_type": "execute_result"
    }
   ],
   "source": [
    "df.shape #Checking rows and columns"
   ]
  },
  {
   "cell_type": "code",
   "execution_count": 3,
   "id": "51cbc182-6406-4a8c-96d9-73a404ed640b",
   "metadata": {},
   "outputs": [
    {
     "name": "stdout",
     "output_type": "stream",
     "text": [
      "<class 'pandas.core.frame.DataFrame'>\n",
      "RangeIndex: 1827 entries, 0 to 1826\n",
      "Data columns (total 3 columns):\n",
      " #   Column           Non-Null Count  Dtype  \n",
      "---  ------           --------------  -----  \n",
      " 0   Draw Date        1827 non-null   object \n",
      " 1   Winning Numbers  1827 non-null   object \n",
      " 2   Multiplier       1617 non-null   float64\n",
      "dtypes: float64(1), object(2)\n",
      "memory usage: 42.9+ KB\n"
     ]
    }
   ],
   "source": [
    "df.info() #Chekcing types of data"
   ]
  },
  {
   "cell_type": "code",
   "execution_count": 4,
   "id": "d4a00795-d541-4630-af6e-55340f5f130e",
   "metadata": {},
   "outputs": [
    {
     "data": {
      "text/html": [
       "<div>\n",
       "<style scoped>\n",
       "    .dataframe tbody tr th:only-of-type {\n",
       "        vertical-align: middle;\n",
       "    }\n",
       "\n",
       "    .dataframe tbody tr th {\n",
       "        vertical-align: top;\n",
       "    }\n",
       "\n",
       "    .dataframe thead th {\n",
       "        text-align: right;\n",
       "    }\n",
       "</style>\n",
       "<table border=\"1\" class=\"dataframe\">\n",
       "  <thead>\n",
       "    <tr style=\"text-align: right;\">\n",
       "      <th></th>\n",
       "      <th>Multiplier</th>\n",
       "    </tr>\n",
       "  </thead>\n",
       "  <tbody>\n",
       "    <tr>\n",
       "      <th>count</th>\n",
       "      <td>1617.000000</td>\n",
       "    </tr>\n",
       "    <tr>\n",
       "      <th>mean</th>\n",
       "      <td>2.784787</td>\n",
       "    </tr>\n",
       "    <tr>\n",
       "      <th>std</th>\n",
       "      <td>1.174477</td>\n",
       "    </tr>\n",
       "    <tr>\n",
       "      <th>min</th>\n",
       "      <td>2.000000</td>\n",
       "    </tr>\n",
       "    <tr>\n",
       "      <th>25%</th>\n",
       "      <td>2.000000</td>\n",
       "    </tr>\n",
       "    <tr>\n",
       "      <th>50%</th>\n",
       "      <td>2.000000</td>\n",
       "    </tr>\n",
       "    <tr>\n",
       "      <th>75%</th>\n",
       "      <td>3.000000</td>\n",
       "    </tr>\n",
       "    <tr>\n",
       "      <th>max</th>\n",
       "      <td>10.000000</td>\n",
       "    </tr>\n",
       "  </tbody>\n",
       "</table>\n",
       "</div>"
      ],
      "text/plain": [
       "        Multiplier\n",
       "count  1617.000000\n",
       "mean      2.784787\n",
       "std       1.174477\n",
       "min       2.000000\n",
       "25%       2.000000\n",
       "50%       2.000000\n",
       "75%       3.000000\n",
       "max      10.000000"
      ]
     },
     "execution_count": 4,
     "metadata": {},
     "output_type": "execute_result"
    }
   ],
   "source": [
    "df.describe() #getting descriptive statistics from numeric variables. "
   ]
  },
  {
   "cell_type": "markdown",
   "id": "7062a846-6c23-4147-8704-ae354ac81d11",
   "metadata": {},
   "source": [
    "There are 1827 rows, and 3 columns. 2 columns are considered categorical variables, while 1 column (multiplier) is numeric. The mean is above the median in the multiplier column, indicating that the data may be skewed to the right. "
   ]
  },
  {
   "cell_type": "markdown",
   "id": "255079de-1dc1-4034-9da7-569bcb923fe0",
   "metadata": {},
   "source": [
    "## Clean the Data"
   ]
  },
  {
   "cell_type": "code",
   "execution_count": 5,
   "id": "3f785be5-8782-4fc2-87d1-838f89c2b797",
   "metadata": {},
   "outputs": [
    {
     "name": "stdout",
     "output_type": "stream",
     "text": [
      "   Draw Date  Multiplier  Winning Number 1  Winning Number 2  \\\n",
      "0 2020-09-26         3.0                11                21   \n",
      "1 2020-09-30         2.0                14                18   \n",
      "2 2020-10-03         2.0                18                31   \n",
      "3 2020-10-07         2.0                 6                24   \n",
      "4 2020-10-10         3.0                 5                18   \n",
      "\n",
      "   Winning Number 3  Winning Number 4  Winning Number 5  Winning Powerball  \n",
      "0                27                36                62                 24  \n",
      "1                36                49                67                 18  \n",
      "2                36                43                47                 20  \n",
      "3                30                53                56                 19  \n",
      "4                23                40                50                 18  \n"
     ]
    }
   ],
   "source": [
    "# splitting Winning Numbers Column into individual columns and renaming them\n",
    "winning_cols = ['Winning Number 1', 'Winning Number 2',\n",
    "                'Winning Number 3', 'Winning Number 4',\n",
    "                'Winning Number 5', 'Winning Powerball']\n",
    "\n",
    "df[winning_cols] = df['Winning Numbers'].str.split(' ', expand=True).iloc[:, :6]\n",
    "\n",
    "df[winning_cols] = df[winning_cols].astype(int) #changing new columns to numeric\n",
    "\n",
    "df = df.drop(columns=['Winning Numbers']) #dropping original column\n",
    "\n",
    "df['Draw Date'] = pd.to_datetime(df['Draw Date'], format='%m/%d/%Y') #converting to standard datetime\n",
    " \n",
    "print(df.head()) #checking results"
   ]
  },
  {
   "cell_type": "code",
   "execution_count": 6,
   "id": "0ed06f5e-e873-4aa0-988a-e0a93f299df2",
   "metadata": {},
   "outputs": [
    {
     "data": {
      "text/plain": [
       "Draw Date              0\n",
       "Multiplier           210\n",
       "Winning Number 1       0\n",
       "Winning Number 2       0\n",
       "Winning Number 3       0\n",
       "Winning Number 4       0\n",
       "Winning Number 5       0\n",
       "Winning Powerball      0\n",
       "dtype: int64"
      ]
     },
     "execution_count": 6,
     "metadata": {},
     "output_type": "execute_result"
    }
   ],
   "source": [
    "df.isnull().sum() #checking for missing values"
   ]
  },
  {
   "cell_type": "code",
   "execution_count": 7,
   "id": "73daaac8-04d3-49ec-8a8d-bd126fad138b",
   "metadata": {},
   "outputs": [
    {
     "data": {
      "text/plain": [
       "Draw Date            0\n",
       "Multiplier           0\n",
       "Winning Number 1     0\n",
       "Winning Number 2     0\n",
       "Winning Number 3     0\n",
       "Winning Number 4     0\n",
       "Winning Number 5     0\n",
       "Winning Powerball    0\n",
       "dtype: int64"
      ]
     },
     "execution_count": 7,
     "metadata": {},
     "output_type": "execute_result"
    }
   ],
   "source": [
    "df['Multiplier'] = df['Multiplier'].fillna(1).astype(int) #replacing missing values with 1\n",
    "df.isnull().sum() #checking values were filled"
   ]
  },
  {
   "cell_type": "markdown",
   "id": "40eea12e-630e-475d-8092-b056afdc0ed8",
   "metadata": {},
   "source": [
    "I restructured and renamed the 'Winning Numbers' column to 'Winning Number 1-5' and 'Winning Powerball' so that the data for the winning lottery numbers can be manipulated and analyzed. I also converted them to integer format. Additionally, I changed the drawing date to a specific formula for datetime. Then, I checked for missing values, in which the 'Multiplier' column came back with 210 missing values. Since a nonexistent multiplier for the lottery would be 1, I then replaced the empty values with a 1. "
   ]
  },
  {
   "cell_type": "markdown",
   "id": "229f2b04-6328-48c0-ac15-014fc05deca5",
   "metadata": {},
   "source": [
    "## Manipulate the Data"
   ]
  },
  {
   "cell_type": "code",
   "execution_count": 13,
   "id": "8efee408-9202-4598-be09-d22f3d4de663",
   "metadata": {},
   "outputs": [
    {
     "data": {
      "text/plain": [
       "0    24\n",
       "1    18\n",
       "2    20\n",
       "3    19\n",
       "4    18\n",
       "Name: Winning Powerball, dtype: int64"
      ]
     },
     "execution_count": 13,
     "metadata": {},
     "output_type": "execute_result"
    }
   ],
   "source": [
    "df[\"Winning Powerball\"].head() #display single column"
   ]
  },
  {
   "cell_type": "code",
   "execution_count": 16,
   "id": "167851a1-78b3-4c4b-b356-1c956460303c",
   "metadata": {},
   "outputs": [
    {
     "data": {
      "text/html": [
       "<div>\n",
       "<style scoped>\n",
       "    .dataframe tbody tr th:only-of-type {\n",
       "        vertical-align: middle;\n",
       "    }\n",
       "\n",
       "    .dataframe tbody tr th {\n",
       "        vertical-align: top;\n",
       "    }\n",
       "\n",
       "    .dataframe thead th {\n",
       "        text-align: right;\n",
       "    }\n",
       "</style>\n",
       "<table border=\"1\" class=\"dataframe\">\n",
       "  <thead>\n",
       "    <tr style=\"text-align: right;\">\n",
       "      <th></th>\n",
       "      <th>Draw Date</th>\n",
       "      <th>Winning Powerball</th>\n",
       "    </tr>\n",
       "  </thead>\n",
       "  <tbody>\n",
       "    <tr>\n",
       "      <th>5</th>\n",
       "      <td>2020-10-14</td>\n",
       "      <td>5</td>\n",
       "    </tr>\n",
       "    <tr>\n",
       "      <th>6</th>\n",
       "      <td>2020-10-17</td>\n",
       "      <td>23</td>\n",
       "    </tr>\n",
       "    <tr>\n",
       "      <th>7</th>\n",
       "      <td>2020-10-21</td>\n",
       "      <td>26</td>\n",
       "    </tr>\n",
       "    <tr>\n",
       "      <th>8</th>\n",
       "      <td>2020-10-24</td>\n",
       "      <td>6</td>\n",
       "    </tr>\n",
       "    <tr>\n",
       "      <th>9</th>\n",
       "      <td>2020-10-28</td>\n",
       "      <td>13</td>\n",
       "    </tr>\n",
       "    <tr>\n",
       "      <th>10</th>\n",
       "      <td>2020-10-31</td>\n",
       "      <td>24</td>\n",
       "    </tr>\n",
       "  </tbody>\n",
       "</table>\n",
       "</div>"
      ],
      "text/plain": [
       "    Draw Date  Winning Powerball\n",
       "5  2020-10-14                  5\n",
       "6  2020-10-17                 23\n",
       "7  2020-10-21                 26\n",
       "8  2020-10-24                  6\n",
       "9  2020-10-28                 13\n",
       "10 2020-10-31                 24"
      ]
     },
     "execution_count": 16,
     "metadata": {},
     "output_type": "execute_result"
    }
   ],
   "source": [
    "#sorting and slicing column by draw date\n",
    "df_sorted = df.sort_values(\"Draw Date\")[[\"Draw Date\", \"Winning Powerball\"]]\n",
    "df_sorted.head()\n",
    "df_slice = df.loc[5:10, [\"Draw Date\", \"Winning Powerball\"]]\n",
    "df_slice"
   ]
  },
  {
   "cell_type": "code",
   "execution_count": 19,
   "id": "c5068768-7352-4f4d-9acb-219026bee928",
   "metadata": {},
   "outputs": [
    {
     "data": {
      "text/html": [
       "<div>\n",
       "<style scoped>\n",
       "    .dataframe tbody tr th:only-of-type {\n",
       "        vertical-align: middle;\n",
       "    }\n",
       "\n",
       "    .dataframe tbody tr th {\n",
       "        vertical-align: top;\n",
       "    }\n",
       "\n",
       "    .dataframe thead th {\n",
       "        text-align: right;\n",
       "    }\n",
       "</style>\n",
       "<table border=\"1\" class=\"dataframe\">\n",
       "  <thead>\n",
       "    <tr style=\"text-align: right;\">\n",
       "      <th></th>\n",
       "      <th>Draw Date</th>\n",
       "      <th>Winning Powerball</th>\n",
       "    </tr>\n",
       "  </thead>\n",
       "  <tbody>\n",
       "    <tr>\n",
       "      <th>9</th>\n",
       "      <td>2020-10-28</td>\n",
       "      <td>13</td>\n",
       "    </tr>\n",
       "    <tr>\n",
       "      <th>13</th>\n",
       "      <td>2020-11-11</td>\n",
       "      <td>13</td>\n",
       "    </tr>\n",
       "    <tr>\n",
       "      <th>24</th>\n",
       "      <td>2020-12-19</td>\n",
       "      <td>13</td>\n",
       "    </tr>\n",
       "    <tr>\n",
       "      <th>30</th>\n",
       "      <td>2021-01-09</td>\n",
       "      <td>13</td>\n",
       "    </tr>\n",
       "    <tr>\n",
       "      <th>114</th>\n",
       "      <td>2020-03-21</td>\n",
       "      <td>13</td>\n",
       "    </tr>\n",
       "  </tbody>\n",
       "</table>\n",
       "</div>"
      ],
      "text/plain": [
       "     Draw Date  Winning Powerball\n",
       "9   2020-10-28                 13\n",
       "13  2020-11-11                 13\n",
       "24  2020-12-19                 13\n",
       "30  2021-01-09                 13\n",
       "114 2020-03-21                 13"
      ]
     },
     "execution_count": 19,
     "metadata": {},
     "output_type": "execute_result"
    }
   ],
   "source": [
    "#filtering for specific powerball value\n",
    "df_filtered = df[df[\"Winning Powerball\"] == 13][[\"Draw Date\", \"Winning Powerball\"]]\n",
    "df_filtered.head()"
   ]
  },
  {
   "cell_type": "markdown",
   "id": "61a06668-cf57-4a4a-ac11-8c8f23c5f909",
   "metadata": {},
   "source": [
    "I selected to look at the 'Winning Powerball' variable, and then sorted by Powerball values equivalent to 13. The first output shows the rows I sliced, and then the second output is the first 5 columns where the winning powerball was equal to 13. I wrote the code so that it only displays the Draw Date and Winning Powerball to reduce confusion. "
   ]
  },
  {
   "cell_type": "markdown",
   "id": "a3e2cecb-758e-40b3-98e3-881b27182741",
   "metadata": {},
   "source": [
    "## Group and Visualize Data"
   ]
  },
  {
   "cell_type": "code",
   "execution_count": 21,
   "id": "1992bdc8-9e26-4247-8136-f287750ca1cf",
   "metadata": {},
   "outputs": [
    {
     "data": {
      "image/png": "[encoded data removed]",
      "text/plain": [
       "<Figure size 1000x500 with 1 Axes>"
      ]
     },
     "metadata": {},
     "output_type": "display_data"
    }
   ],
   "source": [
    "# import necessary libraries\n",
    "import matplotlib.pyplot as plt\n",
    "\n",
    "# Average Powerball number by year\n",
    "df['Year'] = df['Draw Date'].dt.year\n",
    "avg_powerball = df.groupby('Year')['Winning Powerball'].mean()\n",
    "\n",
    "# Line plot\n",
    "plt.figure(figsize=(10, 5))\n",
    "avg_powerball.plot(kind='line', marker='o')\n",
    "plt.title(\"Average Winning Powerball Number by Year\")\n",
    "plt.xlabel(\"Year\")\n",
    "plt.ylabel(\"Average Powerball Number\")\n",
    "plt.grid(True)\n",
    "plt.show()\n"
   ]
  },
  {
   "cell_type": "markdown",
   "id": "e4118cee-074e-43f0-8b48-670a0bd071f0",
   "metadata": {},
   "source": [
    "In this plot, I used groupby to create an average of winning powerball numbers by year, and then plotted them on a line graph to observe trends over time. What can be seen here is how the winning powerball numbers might have shifted, in which it can be seen that the average winning powerball number has been decreasing since 2010. This indicates it is favorable to select a lower powerball number for current lottery drawings to have a greater chance at getting the winning powerball number. "
   ]
  },
  {
   "cell_type": "code",
   "execution_count": 26,
   "id": "33ee7ee7-fec4-47a9-b3d9-d13fbf95a9d9",
   "metadata": {},
   "outputs": [
    {
     "data": {
      "image/png": "[encoded data removed]",
      "text/plain": [
       "<Figure size 800x500 with 1 Axes>"
      ]
     },
     "metadata": {},
     "output_type": "display_data"
    }
   ],
   "source": [
    "# Frequency of Winning Multiplier values\n",
    "multiplier_counts = df.groupby('Year')['Multiplier'].mean()\n",
    "\n",
    "# Bar chart\n",
    "plt.figure(figsize=(8, 5))\n",
    "multiplier_counts.plot(kind='bar', color='skyblue')\n",
    "plt.title(\"Frequency of Multiplier Values\")\n",
    "plt.xlabel(\"Multiplier\")\n",
    "plt.ylabel(\"Count\")\n",
    "plt.show()"
   ]
  },
  {
   "cell_type": "markdown",
   "id": "59d46e9c-d3e4-4c4f-85c6-d63dff7b2824",
   "metadata": {},
   "source": [
    "This plot is a graph of the average multiplier values by year. I grouped the average winning multiplier by year to see if there are any trends, in which it seems 2012 and 2013 had very few multipliers above 1. However, it can be seen from the visualization that the multiplier averages evened out and are similar every year from 2014 onwards, hovering between 2.5 and 3. "
   ]
  }
 ],
 "metadata": {
  "kernelspec": {
   "display_name": "conda_python3",
   "language": "python",
   "name": "conda_python3"
  },
  "language_info": {
   "codemirror_mode": {
    "name": "ipython",
    "version": 3
   },
   "file_extension": ".py",
   "mimetype": "text/x-python",
   "name": "python",
   "nbconvert_exporter": "python",
   "pygments_lexer": "ipython3",
   "version": "3.10.18"
  }
 },
 "nbformat": 4,
 "nbformat_minor": 5
}
